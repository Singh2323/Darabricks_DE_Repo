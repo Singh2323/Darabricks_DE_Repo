{
 "cells": [
  {
   "cell_type": "code",
   "execution_count": 0,
   "metadata": {
    "application/vnd.databricks.v1+cell": {
     "cellMetadata": {
      "byteLimit": 2048000,
      "rowLimit": 10000
     },
     "inputWidgets": {},
     "nuid": "4c9ed6cf-46d0-48ed-b10f-7efbf073e649",
     "showTitle": false,
     "tableResultSettingsMap": {},
     "title": ""
    }
   },
   "outputs": [],
   "source": [
    "--1. Total Sales Amount by Each customer\n",
    "--Use case: to find out which custoners generate the most revenue\n",
    "create or replace view dataengineer.gold.customer_sales as\n",
    "select customer_id, round(sum(total_amount)) as total_sales\n",
    "from dataengineer.silver.sales_cleaned\n",
    "group by customer_id\n",
    "order by total_sales desc"
   ]
  },
  {
   "cell_type": "code",
   "execution_count": 0,
   "metadata": {
    "application/vnd.databricks.v1+cell": {
     "cellMetadata": {
      "byteLimit": 2048000,
      "rowLimit": 10000
     },
     "inputWidgets": {},
     "nuid": "be717fe1-31b3-49af-9130-d5d0d024f41c",
     "showTitle": false,
     "tableResultSettingsMap": {},
     "title": ""
    }
   },
   "outputs": [],
   "source": [
    "select *from dataengineer.gold.customer_sales"
   ]
  },
  {
   "cell_type": "code",
   "execution_count": 0,
   "metadata": {
    "application/vnd.databricks.v1+cell": {
     "cellMetadata": {
      "byteLimit": 2048000,
      "rowLimit": 10000
     },
     "inputWidgets": {},
     "nuid": "f7a6df51-9a57-4cf7-9e32-e113e6481dad",
     "showTitle": false,
     "tableResultSettingsMap": {},
     "title": ""
    }
   },
   "outputs": [],
   "source": [
    "--2. top 3 product by total quality sold\n",
    "\n",
    "create or replace view dataengineer.gold.top_3_product as\n",
    "select product_id, sum(quantity) as total_quantity\n",
    "from dataengineer.silver.sales_cleaned\n",
    "group by product_id\n",
    "order by total_quantity desc\n",
    "limit 3"
   ]
  }
 ],
 "metadata": {
  "application/vnd.databricks.v1+notebook": {
   "computePreferences": null,
   "dashboards": [],
   "environmentMetadata": {
    "base_environment": "",
    "environment_version": "2"
   },
   "inputWidgetPreferences": null,
   "language": "sql",
   "notebookMetadata": {
    "pythonIndentUnit": 4
   },
   "notebookName": "gold",
   "widgets": {}
  },
  "language_info": {
   "name": "sql"
  }
 },
 "nbformat": 4,
 "nbformat_minor": 0
}
