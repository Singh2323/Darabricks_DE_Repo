{
 "cells": [
  {
   "cell_type": "code",
   "execution_count": 0,
   "metadata": {
    "application/vnd.databricks.v1+cell": {
     "cellMetadata": {
      "byteLimit": 2048000,
      "rowLimit": 10000
     },
     "inputWidgets": {},
     "nuid": "4dbe654d-ed90-4f8a-9066-cc3b9c22cd5f",
     "showTitle": true,
     "tableResultSettingsMap": {},
     "title": "Pyspark"
    }
   },
   "outputs": [],
   "source": [
    "df=spark.read.table(\"dataengineer.bronze.sales\")\n",
    "\n",
    "df_final=df.dropDuplicates().dropna().drop(\"ingestion_date\")\n",
    "\n",
    "\n",
    "df_final.write.mode(\"overwrite\").saveAsTable(\"dataengineer.silver.sales_cleaned\")"
   ]
  },
  {
   "cell_type": "code",
   "execution_count": 0,
   "metadata": {
    "application/vnd.databricks.v1+cell": {
     "cellMetadata": {},
     "inputWidgets": {},
     "nuid": "8e79dbe9-52f5-4a85-87b0-45e68cc3baac",
     "showTitle": true,
     "tableResultSettingsMap": {},
     "title": "SQL"
    }
   },
   "outputs": [],
   "source": [
    "%sql\n",
    "--create table as dataengineer.silver.sales_cleaned as \n",
    "--select distinct * from dataengineer.bronze.sales where order_id is not null\n"
   ]
  }
 ],
 "metadata": {
  "application/vnd.databricks.v1+notebook": {
   "computePreferences": {
    "hardware": {
     "accelerator": null,
     "gpuPoolId": null,
     "memory": null
    }
   },
   "dashboards": [],
   "environmentMetadata": {
    "base_environment": "",
    "environment_version": "2"
   },
   "inputWidgetPreferences": null,
   "language": "python",
   "notebookMetadata": {
    "pythonIndentUnit": 4
   },
   "notebookName": "silver",
   "widgets": {}
  },
  "language_info": {
   "name": "python"
  }
 },
 "nbformat": 4,
 "nbformat_minor": 0
}
