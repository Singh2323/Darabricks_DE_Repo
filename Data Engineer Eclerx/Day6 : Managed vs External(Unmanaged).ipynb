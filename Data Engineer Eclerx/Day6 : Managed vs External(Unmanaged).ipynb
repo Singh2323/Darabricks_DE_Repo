{
 "cells": [
  {
   "cell_type": "markdown",
   "metadata": {
    "application/vnd.databricks.v1+cell": {
     "cellMetadata": {},
     "inputWidgets": {},
     "nuid": "26c82c6f-1ec0-41f1-8e1d-f3ea73cf9815",
     "showTitle": false,
     "tableResultSettingsMap": {},
     "title": ""
    }
   },
   "source": [
    "\n",
    "##Managed table\n",
    "- Stored at default location\n",
    "- Mangaed by datbricks\n",
    "- When we delete the table all data is deleted ( metadata + data files)\n",
    "\n",
    "##External table\n",
    "- Stored at Cloud location (using keyword LOCATION)\n",
    "- Is not managed by databricks\n",
    "- When we delete the table (Meta data is deleted) but data files remains.\n",
    "\n"
   ]
  },
  {
   "cell_type": "code",
   "execution_count": 0,
   "metadata": {
    "application/vnd.databricks.v1+cell": {
     "cellMetadata": {},
     "inputWidgets": {},
     "nuid": "d1302b2c-4f64-45cf-85cf-a5e4e77590a1",
     "showTitle": false,
     "tableResultSettingsMap": {},
     "title": ""
    }
   },
   "outputs": [],
   "source": [
    "Using SQL\n",
    "\n",
    "create table Externaltable(id int, name string) LOCATION \"/external/path\"\n",
    "\n",
    "Using Pyspark\n",
    "\n",
    "df=spark.read.format(\"path\")\n",
    "df.write.option(\"path\",\"/external/path\").saveAsTable(\"Externaltable\")\n"
   ]
  },
  {
   "cell_type": "code",
   "execution_count": 0,
   "metadata": {
    "application/vnd.databricks.v1+cell": {
     "cellMetadata": {},
     "inputWidgets": {},
     "nuid": "f6ed0606-7239-40f1-add1-bb2b7e35a29a",
     "showTitle": false,
     "tableResultSettingsMap": {},
     "title": ""
    }
   },
   "outputs": [],
   "source": []
  }
 ],
 "metadata": {
  "application/vnd.databricks.v1+notebook": {
   "computePreferences": null,
   "dashboards": [],
   "environmentMetadata": {
    "base_environment": "",
    "environment_version": "2"
   },
   "inputWidgetPreferences": null,
   "language": "sql",
   "notebookMetadata": {
    "pythonIndentUnit": 4
   },
   "notebookName": "Day6 : Managed vs External(Unmanaged)",
   "widgets": {}
  },
  "language_info": {
   "name": "sql"
  }
 },
 "nbformat": 4,
 "nbformat_minor": 0
}
