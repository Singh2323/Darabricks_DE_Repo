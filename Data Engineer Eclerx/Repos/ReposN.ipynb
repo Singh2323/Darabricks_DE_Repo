{
 "cells": [
  {
   "cell_type": "markdown",
   "metadata": {
    "application/vnd.databricks.v1+cell": {
     "cellMetadata": {},
     "inputWidgets": {},
     "nuid": "92b0a2a4-fdbd-494c-916a-1029c56d5e5e",
     "showTitle": false,
     "tableResultSettingsMap": {},
     "title": ""
    }
   },
   "source": [
    "\n",
    "From your github account\n",
    "\n",
    "1. Create a new repo\n",
    "2. Get the URL of the new repo\n",
    "\n",
    "https://github.com/Singh2323/Darabricks_DE_Repo.git\n",
    "\n",
    "Databricks side config\n",
    "\n",
    "1. create git folder using the url\n",
    "2. Integrate (connection between databricks and git)\n"
   ]
  },
  {
   "cell_type": "code",
   "execution_count": 0,
   "metadata": {
    "application/vnd.databricks.v1+cell": {
     "cellMetadata": {},
     "inputWidgets": {},
     "nuid": "1f876d41-9b9f-4a26-a66e-5cea6e10f518",
     "showTitle": false,
     "tableResultSettingsMap": {},
     "title": ""
    }
   },
   "outputs": [],
   "source": []
  }
 ],
 "metadata": {
  "application/vnd.databricks.v1+notebook": {
   "computePreferences": null,
   "dashboards": [],
   "environmentMetadata": {
    "base_environment": "",
    "environment_version": "3"
   },
   "inputWidgetPreferences": null,
   "language": "sql",
   "notebookMetadata": {
    "pythonIndentUnit": 4
   },
   "notebookName": "ReposN",
   "widgets": {}
  },
  "language_info": {
   "name": "sql"
  }
 },
 "nbformat": 4,
 "nbformat_minor": 0
}
